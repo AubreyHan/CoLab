{
  "nbformat": 4,
  "nbformat_minor": 0,
  "metadata": {
    "colab": {
      "provenance": [],
      "authorship_tag": "ABX9TyOpDaRnxBps2bG/AJblV7H6",
      "include_colab_link": true
    },
    "kernelspec": {
      "name": "python3",
      "display_name": "Python 3"
    },
    "language_info": {
      "name": "python"
    }
  },
  "cells": [
    {
      "cell_type": "markdown",
      "metadata": {
        "id": "view-in-github",
        "colab_type": "text"
      },
      "source": [
        "<a href=\"https://colab.research.google.com/github/AubreyHan/CoLab/blob/main/text_embedding.ipynb\" target=\"_parent\"><img src=\"https://colab.research.google.com/assets/colab-badge.svg\" alt=\"Open In Colab\"/></a>"
      ]
    },
    {
      "cell_type": "code",
      "execution_count": null,
      "metadata": {
        "id": "WwRlZTSTwjYa"
      },
      "outputs": [],
      "source": [
        "!pip install google-cloud-aiplatform"
      ]
    },
    {
      "cell_type": "code",
      "source": [
        "from google.colab import auth as google_auth\n",
        "google_auth.authenticate_user()\n",
        "\n",
        "import vertexai\n",
        "from vertexai.language_models import TextEmbeddingModel\n",
        "from scipy import spatial\n",
        "\n",
        "\n",
        "vertexai.init(project=\"hy-20231030-001\", location=\"us-central1\")\n",
        "\n",
        "def text_embedding(textContent,model) -> list:\n",
        "    \"\"\"Text embedding with a Large Language Model.\"\"\"\n",
        "    model = TextEmbeddingModel.from_pretrained(model)\n",
        "    embeddings = model.get_embeddings([textContent])\n",
        "    for embedding in embeddings:\n",
        "        vector = embedding.values\n",
        "    return vector\n",
        "\n",
        "\n",
        "\n",
        "if __name__ == \"__main__\":\n",
        "    textDemo = \"请帮我写一篇关于学习英语的文章\"\n",
        "    textDemoEn = \"Please help me write an article about learning English\"\n",
        "    demo01 = text_embedding(textDemo,\"textembedding-gecko@001\")\n",
        "    demo01en = text_embedding(textDemoEn,\"textembedding-gecko@001\")\n",
        "#    print (demo01)\n",
        "    demo02 = text_embedding(textDemo,\"textembedding-gecko@latest\")\n",
        "    demo02en = text_embedding(textDemoEn,\"textembedding-gecko@latest\")\n",
        "#    print (demo02)\n",
        "    demo03 = text_embedding(textDemo,\"textembedding-gecko-multilingual@latest\")\n",
        "    demo03en = text_embedding(textDemoEn,\"textembedding-gecko-multilingual@latest\")\n",
        "#    print (demo03)\n",
        "\n",
        "    result01 = 1 - spatial.distance.cosine(demo01, demo01en)\n",
        "    result02 = 1 - spatial.distance.cosine(demo02, demo02en)\n",
        "    result03 = 1 - spatial.distance.cosine(demo03, demo03en)\n",
        "    print (result01)\n",
        "    print (result02)\n",
        "    print (result03)"
      ],
      "metadata": {
        "id": "CEnys3lnxBlH"
      },
      "execution_count": null,
      "outputs": []
    }
  ]
}